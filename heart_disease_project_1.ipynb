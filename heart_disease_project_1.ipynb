{
 "cells": [
  {
   "cell_type": "code",
   "execution_count": 1,
   "id": "6538cc70",
   "metadata": {},
   "outputs": [],
   "source": [
    "import pandas as pd\n",
    "import numpy as np\n",
    "import matplotlib.pyplot as plt\n",
    "import seaborn as sns\n",
    "from sklearn.metrics import accuracy_score,precision_score,recall_score,confusion_matrix,f1_score\n",
    "from sklearn.model_selection import train_test_split,RandomizedSearchCV,GridSearchCV,cross_val_score\n",
    "from sklearn.ensemble import RandomForestClassifier\n",
    "from sklearn import svm\n",
    "from sklearn.linear_model import LogisticRegression\n",
    "from sklearn.neighbors import KNeighborsClassifier\n",
    "from sklearn.metrics import classification_report,roc_auc_score,plot_roc_curve"
   ]
  },
  {
   "cell_type": "code",
   "execution_count": 2,
   "id": "ac61689b",
   "metadata": {},
   "outputs": [
    {
     "data": {
      "text/html": [
       "<div>\n",
       "<style scoped>\n",
       "    .dataframe tbody tr th:only-of-type {\n",
       "        vertical-align: middle;\n",
       "    }\n",
       "\n",
       "    .dataframe tbody tr th {\n",
       "        vertical-align: top;\n",
       "    }\n",
       "\n",
       "    .dataframe thead th {\n",
       "        text-align: right;\n",
       "    }\n",
       "</style>\n",
       "<table border=\"1\" class=\"dataframe\">\n",
       "  <thead>\n",
       "    <tr style=\"text-align: right;\">\n",
       "      <th></th>\n",
       "      <th>age</th>\n",
       "      <th>sex</th>\n",
       "      <th>cp</th>\n",
       "      <th>trestbps</th>\n",
       "      <th>chol</th>\n",
       "      <th>fbs</th>\n",
       "      <th>restecg</th>\n",
       "      <th>thalach</th>\n",
       "      <th>exang</th>\n",
       "      <th>oldpeak</th>\n",
       "      <th>slope</th>\n",
       "      <th>ca</th>\n",
       "      <th>thal</th>\n",
       "      <th>target</th>\n",
       "    </tr>\n",
       "  </thead>\n",
       "  <tbody>\n",
       "    <tr>\n",
       "      <th>0</th>\n",
       "      <td>63</td>\n",
       "      <td>1</td>\n",
       "      <td>3</td>\n",
       "      <td>145</td>\n",
       "      <td>233</td>\n",
       "      <td>1</td>\n",
       "      <td>0</td>\n",
       "      <td>150</td>\n",
       "      <td>0</td>\n",
       "      <td>2.3</td>\n",
       "      <td>0</td>\n",
       "      <td>0</td>\n",
       "      <td>1</td>\n",
       "      <td>1</td>\n",
       "    </tr>\n",
       "    <tr>\n",
       "      <th>1</th>\n",
       "      <td>37</td>\n",
       "      <td>1</td>\n",
       "      <td>2</td>\n",
       "      <td>130</td>\n",
       "      <td>250</td>\n",
       "      <td>0</td>\n",
       "      <td>1</td>\n",
       "      <td>187</td>\n",
       "      <td>0</td>\n",
       "      <td>3.5</td>\n",
       "      <td>0</td>\n",
       "      <td>0</td>\n",
       "      <td>2</td>\n",
       "      <td>1</td>\n",
       "    </tr>\n",
       "    <tr>\n",
       "      <th>2</th>\n",
       "      <td>41</td>\n",
       "      <td>0</td>\n",
       "      <td>1</td>\n",
       "      <td>130</td>\n",
       "      <td>204</td>\n",
       "      <td>0</td>\n",
       "      <td>0</td>\n",
       "      <td>172</td>\n",
       "      <td>0</td>\n",
       "      <td>1.4</td>\n",
       "      <td>2</td>\n",
       "      <td>0</td>\n",
       "      <td>2</td>\n",
       "      <td>1</td>\n",
       "    </tr>\n",
       "    <tr>\n",
       "      <th>3</th>\n",
       "      <td>56</td>\n",
       "      <td>1</td>\n",
       "      <td>1</td>\n",
       "      <td>120</td>\n",
       "      <td>236</td>\n",
       "      <td>0</td>\n",
       "      <td>1</td>\n",
       "      <td>178</td>\n",
       "      <td>0</td>\n",
       "      <td>0.8</td>\n",
       "      <td>2</td>\n",
       "      <td>0</td>\n",
       "      <td>2</td>\n",
       "      <td>1</td>\n",
       "    </tr>\n",
       "    <tr>\n",
       "      <th>4</th>\n",
       "      <td>57</td>\n",
       "      <td>0</td>\n",
       "      <td>0</td>\n",
       "      <td>120</td>\n",
       "      <td>354</td>\n",
       "      <td>0</td>\n",
       "      <td>1</td>\n",
       "      <td>163</td>\n",
       "      <td>1</td>\n",
       "      <td>0.6</td>\n",
       "      <td>2</td>\n",
       "      <td>0</td>\n",
       "      <td>2</td>\n",
       "      <td>1</td>\n",
       "    </tr>\n",
       "  </tbody>\n",
       "</table>\n",
       "</div>"
      ],
      "text/plain": [
       "   age  sex  cp  trestbps  chol  fbs  restecg  thalach  exang  oldpeak  slope  \\\n",
       "0   63    1   3       145   233    1        0      150      0      2.3      0   \n",
       "1   37    1   2       130   250    0        1      187      0      3.5      0   \n",
       "2   41    0   1       130   204    0        0      172      0      1.4      2   \n",
       "3   56    1   1       120   236    0        1      178      0      0.8      2   \n",
       "4   57    0   0       120   354    0        1      163      1      0.6      2   \n",
       "\n",
       "   ca  thal  target  \n",
       "0   0     1       1  \n",
       "1   0     2       1  \n",
       "2   0     2       1  \n",
       "3   0     2       1  \n",
       "4   0     2       1  "
      ]
     },
     "execution_count": 2,
     "metadata": {},
     "output_type": "execute_result"
    }
   ],
   "source": [
    "data = pd.read_csv(\"heart-disease.csv\")\n",
    "data.head()"
   ]
  },
  {
   "cell_type": "code",
   "execution_count": 3,
   "id": "9b10c3f7",
   "metadata": {},
   "outputs": [
    {
     "data": {
      "text/plain": [
       "age         0\n",
       "sex         0\n",
       "cp          0\n",
       "trestbps    0\n",
       "chol        0\n",
       "fbs         0\n",
       "restecg     0\n",
       "thalach     0\n",
       "exang       0\n",
       "oldpeak     0\n",
       "slope       0\n",
       "ca          0\n",
       "thal        0\n",
       "target      0\n",
       "dtype: int64"
      ]
     },
     "execution_count": 3,
     "metadata": {},
     "output_type": "execute_result"
    }
   ],
   "source": [
    "data.isna().sum()"
   ]
  },
  {
   "cell_type": "code",
   "execution_count": 4,
   "id": "c9124dc9",
   "metadata": {},
   "outputs": [
    {
     "data": {
      "text/plain": [
       "array([[<AxesSubplot:title={'center':'age'}>,\n",
       "        <AxesSubplot:title={'center':'sex'}>],\n",
       "       [<AxesSubplot:title={'center':'oldpeak'}>,\n",
       "        <AxesSubplot:title={'center':'ca'}>],\n",
       "       [<AxesSubplot:title={'center':'thal'}>,\n",
       "        <AxesSubplot:title={'center':'fbs'}>]], dtype=object)"
      ]
     },
     "execution_count": 4,
     "metadata": {},
     "output_type": "execute_result"
    },
    {
     "data": {
      "image/png": "[encoded data removed]",
      "text/plain": [
       "<Figure size 432x288 with 6 Axes>"
      ]
     },
     "metadata": {
      "needs_background": "light"
     },
     "output_type": "display_data"
    }
   ],
   "source": [
    "data[[\"age\",\"sex\",\"oldpeak\",\"ca\",\"thal\",\"fbs\"]].hist()"
   ]
  },
  {
   "cell_type": "code",
   "execution_count": 5,
   "id": "de4e5350",
   "metadata": {},
   "outputs": [],
   "source": [
    "data = data.sample(frac=1)\n",
    "X = data.drop(\"target\",axis=1)\n",
    "y = data[\"target\"]"
   ]
  },
  {
   "cell_type": "code",
   "execution_count": 6,
   "id": "f8ad0acc",
   "metadata": {},
   "outputs": [
    {
     "data": {
      "text/html": [
       "<div>\n",
       "<style scoped>\n",
       "    .dataframe tbody tr th:only-of-type {\n",
       "        vertical-align: middle;\n",
       "    }\n",
       "\n",
       "    .dataframe tbody tr th {\n",
       "        vertical-align: top;\n",
       "    }\n",
       "\n",
       "    .dataframe thead th {\n",
       "        text-align: right;\n",
       "    }\n",
       "</style>\n",
       "<table border=\"1\" class=\"dataframe\">\n",
       "  <thead>\n",
       "    <tr style=\"text-align: right;\">\n",
       "      <th></th>\n",
       "      <th>age</th>\n",
       "      <th>sex</th>\n",
       "      <th>cp</th>\n",
       "      <th>trestbps</th>\n",
       "      <th>chol</th>\n",
       "      <th>fbs</th>\n",
       "      <th>restecg</th>\n",
       "      <th>thalach</th>\n",
       "      <th>exang</th>\n",
       "      <th>oldpeak</th>\n",
       "      <th>slope</th>\n",
       "      <th>ca</th>\n",
       "      <th>thal</th>\n",
       "    </tr>\n",
       "  </thead>\n",
       "  <tbody>\n",
       "    <tr>\n",
       "      <th>244</th>\n",
       "      <td>56</td>\n",
       "      <td>1</td>\n",
       "      <td>0</td>\n",
       "      <td>132</td>\n",
       "      <td>184</td>\n",
       "      <td>0</td>\n",
       "      <td>0</td>\n",
       "      <td>105</td>\n",
       "      <td>1</td>\n",
       "      <td>2.1</td>\n",
       "      <td>1</td>\n",
       "      <td>1</td>\n",
       "      <td>1</td>\n",
       "    </tr>\n",
       "    <tr>\n",
       "      <th>125</th>\n",
       "      <td>34</td>\n",
       "      <td>0</td>\n",
       "      <td>1</td>\n",
       "      <td>118</td>\n",
       "      <td>210</td>\n",
       "      <td>0</td>\n",
       "      <td>1</td>\n",
       "      <td>192</td>\n",
       "      <td>0</td>\n",
       "      <td>0.7</td>\n",
       "      <td>2</td>\n",
       "      <td>0</td>\n",
       "      <td>2</td>\n",
       "    </tr>\n",
       "    <tr>\n",
       "      <th>79</th>\n",
       "      <td>58</td>\n",
       "      <td>1</td>\n",
       "      <td>2</td>\n",
       "      <td>105</td>\n",
       "      <td>240</td>\n",
       "      <td>0</td>\n",
       "      <td>0</td>\n",
       "      <td>154</td>\n",
       "      <td>1</td>\n",
       "      <td>0.6</td>\n",
       "      <td>1</td>\n",
       "      <td>0</td>\n",
       "      <td>3</td>\n",
       "    </tr>\n",
       "    <tr>\n",
       "      <th>48</th>\n",
       "      <td>53</td>\n",
       "      <td>0</td>\n",
       "      <td>2</td>\n",
       "      <td>128</td>\n",
       "      <td>216</td>\n",
       "      <td>0</td>\n",
       "      <td>0</td>\n",
       "      <td>115</td>\n",
       "      <td>0</td>\n",
       "      <td>0.0</td>\n",
       "      <td>2</td>\n",
       "      <td>0</td>\n",
       "      <td>0</td>\n",
       "    </tr>\n",
       "    <tr>\n",
       "      <th>15</th>\n",
       "      <td>50</td>\n",
       "      <td>0</td>\n",
       "      <td>2</td>\n",
       "      <td>120</td>\n",
       "      <td>219</td>\n",
       "      <td>0</td>\n",
       "      <td>1</td>\n",
       "      <td>158</td>\n",
       "      <td>0</td>\n",
       "      <td>1.6</td>\n",
       "      <td>1</td>\n",
       "      <td>0</td>\n",
       "      <td>2</td>\n",
       "    </tr>\n",
       "  </tbody>\n",
       "</table>\n",
       "</div>"
      ],
      "text/plain": [
       "     age  sex  cp  trestbps  chol  fbs  restecg  thalach  exang  oldpeak  \\\n",
       "244   56    1   0       132   184    0        0      105      1      2.1   \n",
       "125   34    0   1       118   210    0        1      192      0      0.7   \n",
       "79    58    1   2       105   240    0        0      154      1      0.6   \n",
       "48    53    0   2       128   216    0        0      115      0      0.0   \n",
       "15    50    0   2       120   219    0        1      158      0      1.6   \n",
       "\n",
       "     slope  ca  thal  \n",
       "244      1   1     1  \n",
       "125      2   0     2  \n",
       "79       1   0     3  \n",
       "48       2   0     0  \n",
       "15       1   0     2  "
      ]
     },
     "execution_count": 6,
     "metadata": {},
     "output_type": "execute_result"
    }
   ],
   "source": [
    "X.head()"
   ]
  },
  {
   "cell_type": "code",
   "execution_count": 7,
   "id": "b959e48c",
   "metadata": {},
   "outputs": [
    {
     "data": {
      "text/html": [
       "<div>\n",
       "<style scoped>\n",
       "    .dataframe tbody tr th:only-of-type {\n",
       "        vertical-align: middle;\n",
       "    }\n",
       "\n",
       "    .dataframe tbody tr th {\n",
       "        vertical-align: top;\n",
       "    }\n",
       "\n",
       "    .dataframe thead th {\n",
       "        text-align: right;\n",
       "    }\n",
       "</style>\n",
       "<table border=\"1\" class=\"dataframe\">\n",
       "  <thead>\n",
       "    <tr style=\"text-align: right;\">\n",
       "      <th></th>\n",
       "      <th>age</th>\n",
       "      <th>sex</th>\n",
       "      <th>cp</th>\n",
       "      <th>trestbps</th>\n",
       "      <th>chol</th>\n",
       "      <th>fbs</th>\n",
       "      <th>restecg</th>\n",
       "      <th>thalach</th>\n",
       "      <th>exang</th>\n",
       "      <th>oldpeak</th>\n",
       "      <th>slope</th>\n",
       "      <th>ca</th>\n",
       "      <th>thal</th>\n",
       "    </tr>\n",
       "  </thead>\n",
       "  <tbody>\n",
       "    <tr>\n",
       "      <th>129</th>\n",
       "      <td>74</td>\n",
       "      <td>0</td>\n",
       "      <td>1</td>\n",
       "      <td>120</td>\n",
       "      <td>269</td>\n",
       "      <td>0</td>\n",
       "      <td>0</td>\n",
       "      <td>121</td>\n",
       "      <td>1</td>\n",
       "      <td>0.2</td>\n",
       "      <td>2</td>\n",
       "      <td>1</td>\n",
       "      <td>2</td>\n",
       "    </tr>\n",
       "    <tr>\n",
       "      <th>72</th>\n",
       "      <td>29</td>\n",
       "      <td>1</td>\n",
       "      <td>1</td>\n",
       "      <td>130</td>\n",
       "      <td>204</td>\n",
       "      <td>0</td>\n",
       "      <td>0</td>\n",
       "      <td>202</td>\n",
       "      <td>0</td>\n",
       "      <td>0.0</td>\n",
       "      <td>2</td>\n",
       "      <td>0</td>\n",
       "      <td>2</td>\n",
       "    </tr>\n",
       "    <tr>\n",
       "      <th>2</th>\n",
       "      <td>41</td>\n",
       "      <td>0</td>\n",
       "      <td>1</td>\n",
       "      <td>130</td>\n",
       "      <td>204</td>\n",
       "      <td>0</td>\n",
       "      <td>0</td>\n",
       "      <td>172</td>\n",
       "      <td>0</td>\n",
       "      <td>1.4</td>\n",
       "      <td>2</td>\n",
       "      <td>0</td>\n",
       "      <td>2</td>\n",
       "    </tr>\n",
       "    <tr>\n",
       "      <th>238</th>\n",
       "      <td>77</td>\n",
       "      <td>1</td>\n",
       "      <td>0</td>\n",
       "      <td>125</td>\n",
       "      <td>304</td>\n",
       "      <td>0</td>\n",
       "      <td>0</td>\n",
       "      <td>162</td>\n",
       "      <td>1</td>\n",
       "      <td>0.0</td>\n",
       "      <td>2</td>\n",
       "      <td>3</td>\n",
       "      <td>2</td>\n",
       "    </tr>\n",
       "    <tr>\n",
       "      <th>131</th>\n",
       "      <td>49</td>\n",
       "      <td>0</td>\n",
       "      <td>1</td>\n",
       "      <td>134</td>\n",
       "      <td>271</td>\n",
       "      <td>0</td>\n",
       "      <td>1</td>\n",
       "      <td>162</td>\n",
       "      <td>0</td>\n",
       "      <td>0.0</td>\n",
       "      <td>1</td>\n",
       "      <td>0</td>\n",
       "      <td>2</td>\n",
       "    </tr>\n",
       "    <tr>\n",
       "      <th>...</th>\n",
       "      <td>...</td>\n",
       "      <td>...</td>\n",
       "      <td>...</td>\n",
       "      <td>...</td>\n",
       "      <td>...</td>\n",
       "      <td>...</td>\n",
       "      <td>...</td>\n",
       "      <td>...</td>\n",
       "      <td>...</td>\n",
       "      <td>...</td>\n",
       "      <td>...</td>\n",
       "      <td>...</td>\n",
       "      <td>...</td>\n",
       "    </tr>\n",
       "    <tr>\n",
       "      <th>7</th>\n",
       "      <td>44</td>\n",
       "      <td>1</td>\n",
       "      <td>1</td>\n",
       "      <td>120</td>\n",
       "      <td>263</td>\n",
       "      <td>0</td>\n",
       "      <td>1</td>\n",
       "      <td>173</td>\n",
       "      <td>0</td>\n",
       "      <td>0.0</td>\n",
       "      <td>2</td>\n",
       "      <td>0</td>\n",
       "      <td>3</td>\n",
       "    </tr>\n",
       "    <tr>\n",
       "      <th>25</th>\n",
       "      <td>71</td>\n",
       "      <td>0</td>\n",
       "      <td>1</td>\n",
       "      <td>160</td>\n",
       "      <td>302</td>\n",
       "      <td>0</td>\n",
       "      <td>1</td>\n",
       "      <td>162</td>\n",
       "      <td>0</td>\n",
       "      <td>0.4</td>\n",
       "      <td>2</td>\n",
       "      <td>2</td>\n",
       "      <td>2</td>\n",
       "    </tr>\n",
       "    <tr>\n",
       "      <th>43</th>\n",
       "      <td>53</td>\n",
       "      <td>0</td>\n",
       "      <td>0</td>\n",
       "      <td>130</td>\n",
       "      <td>264</td>\n",
       "      <td>0</td>\n",
       "      <td>0</td>\n",
       "      <td>143</td>\n",
       "      <td>0</td>\n",
       "      <td>0.4</td>\n",
       "      <td>1</td>\n",
       "      <td>0</td>\n",
       "      <td>2</td>\n",
       "    </tr>\n",
       "    <tr>\n",
       "      <th>170</th>\n",
       "      <td>56</td>\n",
       "      <td>1</td>\n",
       "      <td>2</td>\n",
       "      <td>130</td>\n",
       "      <td>256</td>\n",
       "      <td>1</td>\n",
       "      <td>0</td>\n",
       "      <td>142</td>\n",
       "      <td>1</td>\n",
       "      <td>0.6</td>\n",
       "      <td>1</td>\n",
       "      <td>1</td>\n",
       "      <td>1</td>\n",
       "    </tr>\n",
       "    <tr>\n",
       "      <th>40</th>\n",
       "      <td>51</td>\n",
       "      <td>0</td>\n",
       "      <td>2</td>\n",
       "      <td>140</td>\n",
       "      <td>308</td>\n",
       "      <td>0</td>\n",
       "      <td>0</td>\n",
       "      <td>142</td>\n",
       "      <td>0</td>\n",
       "      <td>1.5</td>\n",
       "      <td>2</td>\n",
       "      <td>1</td>\n",
       "      <td>2</td>\n",
       "    </tr>\n",
       "  </tbody>\n",
       "</table>\n",
       "<p>242 rows × 13 columns</p>\n",
       "</div>"
      ],
      "text/plain": [
       "     age  sex  cp  trestbps  chol  fbs  restecg  thalach  exang  oldpeak  \\\n",
       "129   74    0   1       120   269    0        0      121      1      0.2   \n",
       "72    29    1   1       130   204    0        0      202      0      0.0   \n",
       "2     41    0   1       130   204    0        0      172      0      1.4   \n",
       "238   77    1   0       125   304    0        0      162      1      0.0   \n",
       "131   49    0   1       134   271    0        1      162      0      0.0   \n",
       "..   ...  ...  ..       ...   ...  ...      ...      ...    ...      ...   \n",
       "7     44    1   1       120   263    0        1      173      0      0.0   \n",
       "25    71    0   1       160   302    0        1      162      0      0.4   \n",
       "43    53    0   0       130   264    0        0      143      0      0.4   \n",
       "170   56    1   2       130   256    1        0      142      1      0.6   \n",
       "40    51    0   2       140   308    0        0      142      0      1.5   \n",
       "\n",
       "     slope  ca  thal  \n",
       "129      2   1     2  \n",
       "72       2   0     2  \n",
       "2        2   0     2  \n",
       "238      2   3     2  \n",
       "131      1   0     2  \n",
       "..     ...  ..   ...  \n",
       "7        2   0     3  \n",
       "25       2   2     2  \n",
       "43       1   0     2  \n",
       "170      1   1     1  \n",
       "40       2   1     2  \n",
       "\n",
       "[242 rows x 13 columns]"
      ]
     },
     "execution_count": 7,
     "metadata": {},
     "output_type": "execute_result"
    }
   ],
   "source": [
    "X_train,X_test,y_train,y_test = train_test_split(X,y,test_size=0.2)\n",
    "X_train"
   ]
  },
  {
   "cell_type": "code",
   "execution_count": 8,
   "id": "41856109",
   "metadata": {},
   "outputs": [
    {
     "data": {
      "text/plain": [
       "129    1\n",
       "72     1\n",
       "2      1\n",
       "238    0\n",
       "131    1\n",
       "      ..\n",
       "7      1\n",
       "25     1\n",
       "43     1\n",
       "170    0\n",
       "40     1\n",
       "Name: target, Length: 242, dtype: int64"
      ]
     },
     "execution_count": 8,
     "metadata": {},
     "output_type": "execute_result"
    }
   ],
   "source": [
    "y_train"
   ]
  },
  {
   "cell_type": "code",
   "execution_count": 9,
   "id": "02ef8beb",
   "metadata": {},
   "outputs": [],
   "source": [
    "def eve(y_true,y_pred):\n",
    "    conf_mat = confusion_matrix(y_true,y_pred)\n",
    "    sns.heatmap(conf_mat)\n",
    "    print(\"Accuracy  : \",accuracy_score(y_true,y_pred),\"%\")\n",
    "    print(\"Precision : \",precision_score(y_true,y_pred),\"%\")\n",
    "    print(\"Recall    : \",recall_score(y_true,y_pred),\"%\")\n",
    "    print(\"F1 Score  : \",f1_score(y_true,y_pred),\"%\")"
   ]
  },
  {
   "cell_type": "markdown",
   "id": "ca5a6210",
   "metadata": {},
   "source": [
    "## first trying LogisticRegression"
   ]
  },
  {
   "cell_type": "code",
   "execution_count": 10,
   "id": "c2ca30f0",
   "metadata": {},
   "outputs": [
    {
     "data": {
      "text/plain": [
       "LogisticRegression(max_iter=100000)"
      ]
     },
     "execution_count": 10,
     "metadata": {},
     "output_type": "execute_result"
    }
   ],
   "source": [
    "np.random.seed(42)\n",
    "model1 = LogisticRegression(max_iter=100000)\n",
    "model1.fit(X_train,y_train)"
   ]
  },
  {
   "cell_type": "code",
   "execution_count": 11,
   "id": "ddc8bf91",
   "metadata": {},
   "outputs": [
    {
     "name": "stdout",
     "output_type": "stream",
     "text": [
      "Accuracy  :  0.8688524590163934 %\n",
      "Precision :  0.8529411764705882 %\n",
      "Recall    :  0.90625 %\n",
      "F1 Score  :  0.8787878787878787 %\n"
     ]
    },
    {
     "data": {
      "image/png": "[encoded data removed]",
      "text/plain": [
       "<Figure size 432x288 with 2 Axes>"
      ]
     },
     "metadata": {
      "needs_background": "light"
     },
     "output_type": "display_data"
    }
   ],
   "source": [
    "y_pred = model1.predict(X_test)\n",
    "eve(y_test,y_pred)"
   ]
  },
  {
   "cell_type": "markdown",
   "id": "73f91d1c",
   "metadata": {},
   "source": [
    "## TRYING KNEIGHBORS CLASSIFIER"
   ]
  },
  {
   "cell_type": "code",
   "execution_count": 12,
   "id": "a92871d7",
   "metadata": {},
   "outputs": [
    {
     "data": {
      "text/plain": [
       "KNeighborsClassifier(n_jobs=-1)"
      ]
     },
     "execution_count": 12,
     "metadata": {},
     "output_type": "execute_result"
    }
   ],
   "source": [
    "np.random.seed(42)\n",
    "model2 = KNeighborsClassifier(n_jobs=-1)\n",
    "model2.fit(X_train,y_train)"
   ]
  },
  {
   "cell_type": "code",
   "execution_count": 13,
   "id": "fafc801f",
   "metadata": {},
   "outputs": [
    {
     "name": "stdout",
     "output_type": "stream",
     "text": [
      "Accuracy  :  0.6229508196721312 %\n",
      "Precision :  0.6097560975609756 %\n",
      "Recall    :  0.78125 %\n",
      "F1 Score  :  0.684931506849315 %\n"
     ]
    },
    {
     "data": {
      "image/png": "[encoded data removed]",
      "text/plain": [
       "<Figure size 432x288 with 2 Axes>"
      ]
     },
     "metadata": {
      "needs_background": "light"
     },
     "output_type": "display_data"
    }
   ],
   "source": [
    "y_k_pred = model2.predict(X_test)\n",
    "eve(y_test,y_k_pred)"
   ]
  },
  {
   "attachments": {},
   "cell_type": "markdown",
   "id": "c92711b5",
   "metadata": {},
   "source": [
    "\n",
    "## TRYING RANDOMFORESTCLASSIFIER"
   ]
  },
  {
   "cell_type": "code",
   "execution_count": 14,
   "id": "e0750442",
   "metadata": {},
   "outputs": [
    {
     "data": {
      "text/plain": [
       "RandomForestClassifier(n_jobs=-1)"
      ]
     },
     "execution_count": 14,
     "metadata": {},
     "output_type": "execute_result"
    }
   ],
   "source": [
    "model3 = RandomForestClassifier(n_jobs=-1)\n",
    "model3.fit(X_train,y_train)"
   ]
  },
  {
   "cell_type": "code",
   "execution_count": 15,
   "id": "d278abe8",
   "metadata": {},
   "outputs": [
    {
     "name": "stdout",
     "output_type": "stream",
     "text": [
      "Accuracy  :  0.9180327868852459 %\n",
      "Precision :  0.9655172413793104 %\n",
      "Recall    :  0.875 %\n",
      "F1 Score  :  0.9180327868852458 %\n"
     ]
    },
    {
     "data": {
      "image/png": "[encoded data removed]",
      "text/plain": [
       "<Figure size 432x288 with 2 Axes>"
      ]
     },
     "metadata": {
      "needs_background": "light"
     },
     "output_type": "display_data"
    }
   ],
   "source": [
    "y_r_pred = model3.predict(X_test)\n",
    "eve(y_test,y_r_pred)"
   ]
  },
  {
   "cell_type": "markdown",
   "id": "637fa6e2",
   "metadata": {},
   "source": [
    "## GOOD BYE KNC XD"
   ]
  },
  {
   "cell_type": "markdown",
   "id": "145fcf0b",
   "metadata": {},
   "source": [
    "## HYPER PARAMETER TUNING"
   ]
  },
  {
   "cell_type": "markdown",
   "id": "a8120cc7",
   "metadata": {},
   "source": [
    "### HYPER PARAMETER TUNING FOR KNN"
   ]
  },
  {
   "cell_type": "code",
   "execution_count": 16,
   "id": "c54aaf28",
   "metadata": {},
   "outputs": [
    {
     "data": {
      "text/plain": [
       "<matplotlib.legend.Legend at 0x13d2a8633a0>"
      ]
     },
     "execution_count": 16,
     "metadata": {},
     "output_type": "execute_result"
    },
    {
     "data": {
      "image/png": "[encoded data removed]",
      "text/plain": [
       "<Figure size 432x288 with 1 Axes>"
      ]
     },
     "metadata": {
      "needs_background": "light"
     },
     "output_type": "display_data"
    }
   ],
   "source": [
    "neighbors = range(1,20)\n",
    "train_scores=[]\n",
    "test_scores=[]\n",
    "knn = KNeighborsClassifier()\n",
    "for x in neighbors:\n",
    "    knn.set_params(n_neighbors=x)\n",
    "    knn.fit(X_train,y_train)\n",
    "    train_scores.append(knn.score(X_train,y_train)*100)\n",
    "    test_scores.append(knn.score(X_test,y_test)*100)\n",
    "plt.plot(neighbors,train_scores,label=\"Training Scores\")\n",
    "plt.plot(neighbors,test_scores,label=\"Test Scores\")\n",
    "plt.xticks(np.arange(1,20,1))\n",
    "plt.yticks(np.arange(50,100,5))\n",
    "plt.xlabel(\"Number of Neighbors\")\n",
    "plt.ylabel(\"Score\")\n",
    "plt.legend()"
   ]
  },
  {
   "cell_type": "markdown",
   "id": "6c43f7d4",
   "metadata": {},
   "source": [
    "## HYPER PARAMETER TUNING WITH RANDOMIZEDSEARCHCV\n",
    "\n",
    "On LogisticRegression"
   ]
  },
  {
   "cell_type": "code",
   "execution_count": 17,
   "id": "1a3a1255",
   "metadata": {},
   "outputs": [
    {
     "data": {
      "text/plain": [
       "<matplotlib.legend.Legend at 0x13d2a66e2e0>"
      ]
     },
     "execution_count": 17,
     "metadata": {},
     "output_type": "execute_result"
    },
    {
     "data": {
      "image/png": "[encoded data removed]",
      "text/plain": [
       "<Figure size 432x288 with 1 Axes>"
      ]
     },
     "metadata": {
      "needs_background": "light"
     },
     "output_type": "display_data"
    }
   ],
   "source": [
    "train_score = []\n",
    "test_score = []\n",
    "\n",
    "rfc = LogisticRegression(max_iter=10000)\n",
    "C_var = range(1,5)\n",
    "for x in C_var:\n",
    "    rfc.set_params(C=x)\n",
    "    rfc.fit(X_train,y_train)\n",
    "    train_score.append(rfc.score(X_train,y_train)*100)\n",
    "    test_score.append(rfc.score(X_test,y_test))\n",
    "    \n",
    "plt.plot(C_var,train_score,label=\"Traning Scores\")\n",
    "plt.plot(C_var,test_score,label=\"Test Scores\")\n",
    "plt.xticks(np.arange(1,5))\n",
    "plt.yticks(np.arange(0,100,10))\n",
    "plt.xlabel(\"C Value\")\n",
    "plt.ylabel(\"Score\")\n",
    "plt.legend()"
   ]
  },
  {
   "cell_type": "code",
   "execution_count": 18,
   "id": "59531dc7",
   "metadata": {},
   "outputs": [
    {
     "data": {
      "text/plain": [
       "86.88524590163934"
      ]
     },
     "execution_count": 18,
     "metadata": {},
     "output_type": "execute_result"
    }
   ],
   "source": [
    "rfc.score(X_test,y_test) * 100"
   ]
  },
  {
   "cell_type": "markdown",
   "id": "354b4d92",
   "metadata": {},
   "source": [
    "## Evaluating our tuned machine learning classifier"
   ]
  },
  {
   "cell_type": "code",
   "execution_count": 19,
   "id": "ea85a61b",
   "metadata": {},
   "outputs": [],
   "source": [
    "def eve(y_true,y_pred,rfc):\n",
    "    print(\"Accuracy  : \",accuracy_score(y_true,y_pred),\"%\")\n",
    "    print(\"Precision : \",precision_score(y_true,y_pred),\"%\")\n",
    "    print(\"Recall    : \",recall_score(y_true,y_pred),\"%\")\n",
    "    print(\"F1 Score  : \",f1_score(y_true,y_pred),\"%\")\n",
    "    conf_mat = confusion_matrix(y_true,y_pred)\n",
    "    sns.heatmap(conf_mat)\n",
    "    print(\"ROC_AUC_Score : \",roc_auc_score(y_true,y_pred))\n",
    "    print()\n",
    "    print(\"******************Classification Report*****************\")\n",
    "    print(classification_report(y_true,y_pred))\n",
    "    plot_roc_curve(rfc,X_test,y_test)"
   ]
  },
  {
   "cell_type": "code",
   "execution_count": 20,
   "id": "d5183715",
   "metadata": {},
   "outputs": [
    {
     "name": "stdout",
     "output_type": "stream",
     "text": [
      "Accuracy  :  0.8688524590163934 %\n",
      "Precision :  0.8529411764705882 %\n",
      "Recall    :  0.90625 %\n",
      "F1 Score  :  0.8787878787878787 %\n",
      "ROC_AUC_Score :  0.8669181034482758\n",
      "\n",
      "******************Classification Report*****************\n",
      "              precision    recall  f1-score   support\n",
      "\n",
      "           0       0.89      0.83      0.86        29\n",
      "           1       0.85      0.91      0.88        32\n",
      "\n",
      "    accuracy                           0.87        61\n",
      "   macro avg       0.87      0.87      0.87        61\n",
      "weighted avg       0.87      0.87      0.87        61\n",
      "\n"
     ]
    },
    {
     "name": "stderr",
     "output_type": "stream",
     "text": [
      "C:\\ProgramData\\Anaconda3\\lib\\site-packages\\sklearn\\utils\\deprecation.py:87: FutureWarning: Function plot_roc_curve is deprecated; Function :func:`plot_roc_curve` is deprecated in 1.0 and will be removed in 1.2. Use one of the class methods: :meth:`sklearn.metric.RocCurveDisplay.from_predictions` or :meth:`sklearn.metric.RocCurveDisplay.from_estimator`.\n",
      "  warnings.warn(msg, category=FutureWarning)\n"
     ]
    },
    {
     "data": {
      "image/png": "[encoded data removed]",
      "text/plain": [
       "<Figure size 432x288 with 2 Axes>"
      ]
     },
     "metadata": {
      "needs_background": "light"
     },
     "output_type": "display_data"
    },
    {
     "data": {
      "image/png": "[encoded data removed]",
      "text/plain": [
       "<Figure size 432x288 with 1 Axes>"
      ]
     },
     "metadata": {
      "needs_background": "light"
     },
     "output_type": "display_data"
    }
   ],
   "source": [
    "y_pred = rfc.predict(X_test)\n",
    "eve(y_test,y_pred,rfc)"
   ]
  },
  {
   "cell_type": "markdown",
   "id": "ed29ee6e",
   "metadata": {},
   "source": [
    "## THE ABOVE CLASSIFICATION REPORT IS PREPARED ONLY ON THE X_TEST DATASET, THAT IS ONLY 20% OF THE DATA. THIS IS NOT A GOOD REPRESENTATIVE OF THE ENTIRE DATASET. HENCE, WE WOULD PERFORM A CROSS VALIDATION ON THE DATASET, AND THEN FORM A CLASSIFICATION REPORT THAT IS THE AVERAGE OF ALL THE CROSS VALIDATIONS"
   ]
  },
  {
   "cell_type": "markdown",
   "id": "d2fe7c28",
   "metadata": {},
   "source": [
    "## HYPERTUNING WITH `GridSearchCV`"
   ]
  },
  {
   "cell_type": "code",
   "execution_count": 21,
   "id": "003bc148",
   "metadata": {},
   "outputs": [
    {
     "name": "stdout",
     "output_type": "stream",
     "text": [
      "Fitting 5 folds for each of 30 candidates, totalling 150 fits\n",
      "[CV] END .........................C=0.0001, solver=liblinear; total time=   0.0s\n",
      "[CV] END .........................C=0.0001, solver=liblinear; total time=   0.0s\n",
      "[CV] END .........................C=0.0001, solver=liblinear; total time=   0.0s\n",
      "[CV] END .........................C=0.0001, solver=liblinear; total time=   0.0s\n",
      "[CV] END .........................C=0.0001, solver=liblinear; total time=   0.0s\n",
      "[CV] END .........C=0.00018873918221350977, solver=liblinear; total time=   0.0s\n",
      "[CV] END .........C=0.00018873918221350977, solver=liblinear; total time=   0.0s\n",
      "[CV] END .........C=0.00018873918221350977, solver=liblinear; total time=   0.0s\n",
      "[CV] END .........C=0.00018873918221350977, solver=liblinear; total time=   0.0s\n",
      "[CV] END .........C=0.00018873918221350977, solver=liblinear; total time=   0.0s\n",
      "[CV] END ..........C=0.0003562247890262444, solver=liblinear; total time=   0.0s\n",
      "[CV] END ..........C=0.0003562247890262444, solver=liblinear; total time=   0.0s\n",
      "[CV] END ..........C=0.0003562247890262444, solver=liblinear; total time=   0.0s\n",
      "[CV] END ..........C=0.0003562247890262444, solver=liblinear; total time=   0.0s\n",
      "[CV] END ..........C=0.0003562247890262444, solver=liblinear; total time=   0.0s\n",
      "[CV] END ..........C=0.0006723357536499335, solver=liblinear; total time=   0.0s\n",
      "[CV] END ..........C=0.0006723357536499335, solver=liblinear; total time=   0.0s\n",
      "[CV] END ..........C=0.0006723357536499335, solver=liblinear; total time=   0.0s\n",
      "[CV] END ..........C=0.0006723357536499335, solver=liblinear; total time=   0.0s\n",
      "[CV] END ..........C=0.0006723357536499335, solver=liblinear; total time=   0.0s\n",
      "[CV] END ..........C=0.0012689610031679222, solver=liblinear; total time=   0.0s\n",
      "[CV] END ..........C=0.0012689610031679222, solver=liblinear; total time=   0.0s\n",
      "[CV] END ..........C=0.0012689610031679222, solver=liblinear; total time=   0.0s\n",
      "[CV] END ..........C=0.0012689610031679222, solver=liblinear; total time=   0.0s\n",
      "[CV] END ..........C=0.0012689610031679222, solver=liblinear; total time=   0.0s\n",
      "[CV] END ...........C=0.002395026619987486, solver=liblinear; total time=   0.0s\n",
      "[CV] END ...........C=0.002395026619987486, solver=liblinear; total time=   0.0s\n",
      "[CV] END ...........C=0.002395026619987486, solver=liblinear; total time=   0.0s\n",
      "[CV] END ...........C=0.002395026619987486, solver=liblinear; total time=   0.0s\n",
      "[CV] END ...........C=0.002395026619987486, solver=liblinear; total time=   0.0s\n",
      "[CV] END ...........C=0.004520353656360241, solver=liblinear; total time=   0.0s\n",
      "[CV] END ...........C=0.004520353656360241, solver=liblinear; total time=   0.0s\n",
      "[CV] END ...........C=0.004520353656360241, solver=liblinear; total time=   0.0s\n",
      "[CV] END ...........C=0.004520353656360241, solver=liblinear; total time=   0.0s\n",
      "[CV] END ...........C=0.004520353656360241, solver=liblinear; total time=   0.0s\n",
      "[CV] END ...........C=0.008531678524172805, solver=liblinear; total time=   0.0s\n",
      "[CV] END ...........C=0.008531678524172805, solver=liblinear; total time=   0.0s\n",
      "[CV] END ...........C=0.008531678524172805, solver=liblinear; total time=   0.0s\n",
      "[CV] END ...........C=0.008531678524172805, solver=liblinear; total time=   0.0s\n",
      "[CV] END ...........C=0.008531678524172805, solver=liblinear; total time=   0.0s\n",
      "[CV] END ............C=0.01610262027560939, solver=liblinear; total time=   0.0s\n",
      "[CV] END ............C=0.01610262027560939, solver=liblinear; total time=   0.0s\n",
      "[CV] END ............C=0.01610262027560939, solver=liblinear; total time=   0.0s\n",
      "[CV] END ............C=0.01610262027560939, solver=liblinear; total time=   0.0s\n",
      "[CV] END ............C=0.01610262027560939, solver=liblinear; total time=   0.0s\n",
      "[CV] END ............C=0.03039195382313198, solver=liblinear; total time=   0.0s\n",
      "[CV] END ............C=0.03039195382313198, solver=liblinear; total time=   0.0s\n",
      "[CV] END ............C=0.03039195382313198, solver=liblinear; total time=   0.0s\n",
      "[CV] END ............C=0.03039195382313198, solver=liblinear; total time=   0.0s\n",
      "[CV] END ............C=0.03039195382313198, solver=liblinear; total time=   0.0s\n",
      "[CV] END ............C=0.05736152510448681, solver=liblinear; total time=   0.0s\n",
      "[CV] END ............C=0.05736152510448681, solver=liblinear; total time=   0.0s\n",
      "[CV] END ............C=0.05736152510448681, solver=liblinear; total time=   0.0s\n",
      "[CV] END ............C=0.05736152510448681, solver=liblinear; total time=   0.0s\n",
      "[CV] END ............C=0.05736152510448681, solver=liblinear; total time=   0.0s\n",
      "[CV] END .............C=0.1082636733874054, solver=liblinear; total time=   0.0s\n",
      "[CV] END .............C=0.1082636733874054, solver=liblinear; total time=   0.0s\n",
      "[CV] END .............C=0.1082636733874054, solver=liblinear; total time=   0.0s\n",
      "[CV] END .............C=0.1082636733874054, solver=liblinear; total time=   0.0s\n",
      "[CV] END .............C=0.1082636733874054, solver=liblinear; total time=   0.0s\n",
      "[CV] END ............C=0.20433597178569418, solver=liblinear; total time=   0.0s\n",
      "[CV] END ............C=0.20433597178569418, solver=liblinear; total time=   0.0s\n",
      "[CV] END ............C=0.20433597178569418, solver=liblinear; total time=   0.0s\n",
      "[CV] END ............C=0.20433597178569418, solver=liblinear; total time=   0.0s\n",
      "[CV] END ............C=0.20433597178569418, solver=liblinear; total time=   0.0s\n",
      "[CV] END ............C=0.38566204211634725, solver=liblinear; total time=   0.0s\n",
      "[CV] END ............C=0.38566204211634725, solver=liblinear; total time=   0.0s\n",
      "[CV] END ............C=0.38566204211634725, solver=liblinear; total time=   0.0s\n",
      "[CV] END ............C=0.38566204211634725, solver=liblinear; total time=   0.0s\n",
      "[CV] END ............C=0.38566204211634725, solver=liblinear; total time=   0.0s\n",
      "[CV] END .............C=0.7278953843983146, solver=liblinear; total time=   0.0s\n",
      "[CV] END .............C=0.7278953843983146, solver=liblinear; total time=   0.0s\n",
      "[CV] END .............C=0.7278953843983146, solver=liblinear; total time=   0.0s\n",
      "[CV] END .............C=0.7278953843983146, solver=liblinear; total time=   0.0s\n",
      "[CV] END .............C=0.7278953843983146, solver=liblinear; total time=   0.0s\n",
      "[CV] END .............C=1.3738237958832638, solver=liblinear; total time=   0.0s\n",
      "[CV] END .............C=1.3738237958832638, solver=liblinear; total time=   0.0s\n",
      "[CV] END .............C=1.3738237958832638, solver=liblinear; total time=   0.0s\n",
      "[CV] END .............C=1.3738237958832638, solver=liblinear; total time=   0.0s\n",
      "[CV] END .............C=1.3738237958832638, solver=liblinear; total time=   0.0s\n",
      "[CV] END ..............C=2.592943797404667, solver=liblinear; total time=   0.0s\n",
      "[CV] END ..............C=2.592943797404667, solver=liblinear; total time=   0.0s\n",
      "[CV] END ..............C=2.592943797404667, solver=liblinear; total time=   0.0s\n",
      "[CV] END ..............C=2.592943797404667, solver=liblinear; total time=   0.0s\n",
      "[CV] END ..............C=2.592943797404667, solver=liblinear; total time=   0.0s\n",
      "[CV] END ..............C=4.893900918477489, solver=liblinear; total time=   0.0s\n",
      "[CV] END ..............C=4.893900918477489, solver=liblinear; total time=   0.0s\n",
      "[CV] END ..............C=4.893900918477489, solver=liblinear; total time=   0.0s\n",
      "[CV] END ..............C=4.893900918477489, solver=liblinear; total time=   0.0s\n",
      "[CV] END ..............C=4.893900918477489, solver=liblinear; total time=   0.0s\n",
      "[CV] END ..............C=9.236708571873866, solver=liblinear; total time=   0.0s\n",
      "[CV] END ..............C=9.236708571873866, solver=liblinear; total time=   0.0s\n",
      "[CV] END ..............C=9.236708571873866, solver=liblinear; total time=   0.0s\n",
      "[CV] END ..............C=9.236708571873866, solver=liblinear; total time=   0.0s\n",
      "[CV] END ..............C=9.236708571873866, solver=liblinear; total time=   0.0s\n",
      "[CV] END .............C=17.433288221999874, solver=liblinear; total time=   0.0s\n",
      "[CV] END .............C=17.433288221999874, solver=liblinear; total time=   0.0s\n",
      "[CV] END .............C=17.433288221999874, solver=liblinear; total time=   0.0s\n",
      "[CV] END .............C=17.433288221999874, solver=liblinear; total time=   0.0s\n",
      "[CV] END .............C=17.433288221999874, solver=liblinear; total time=   0.0s\n",
      "[CV] END ..............C=32.90344562312671, solver=liblinear; total time=   0.0s\n",
      "[CV] END ..............C=32.90344562312671, solver=liblinear; total time=   0.0s\n",
      "[CV] END ..............C=32.90344562312671, solver=liblinear; total time=   0.0s\n",
      "[CV] END ..............C=32.90344562312671, solver=liblinear; total time=   0.0s\n",
      "[CV] END ..............C=32.90344562312671, solver=liblinear; total time=   0.0s\n",
      "[CV] END ..............C=62.10169418915616, solver=liblinear; total time=   0.0s\n",
      "[CV] END ..............C=62.10169418915616, solver=liblinear; total time=   0.0s\n",
      "[CV] END ..............C=62.10169418915616, solver=liblinear; total time=   0.0s\n",
      "[CV] END ..............C=62.10169418915616, solver=liblinear; total time=   0.0s\n",
      "[CV] END ..............C=62.10169418915616, solver=liblinear; total time=   0.0s\n",
      "[CV] END .............C=117.21022975334793, solver=liblinear; total time=   0.0s\n",
      "[CV] END .............C=117.21022975334793, solver=liblinear; total time=   0.0s\n",
      "[CV] END .............C=117.21022975334793, solver=liblinear; total time=   0.0s\n",
      "[CV] END .............C=117.21022975334793, solver=liblinear; total time=   0.0s\n",
      "[CV] END .............C=117.21022975334793, solver=liblinear; total time=   0.0s\n",
      "[CV] END .............C=221.22162910704503, solver=liblinear; total time=   0.0s\n",
      "[CV] END .............C=221.22162910704503, solver=liblinear; total time=   0.0s\n",
      "[CV] END .............C=221.22162910704503, solver=liblinear; total time=   0.0s\n",
      "[CV] END .............C=221.22162910704503, solver=liblinear; total time=   0.0s\n",
      "[CV] END .............C=221.22162910704503, solver=liblinear; total time=   0.0s\n",
      "[CV] END .............C=417.53189365604004, solver=liblinear; total time=   0.0s\n",
      "[CV] END .............C=417.53189365604004, solver=liblinear; total time=   0.0s\n",
      "[CV] END .............C=417.53189365604004, solver=liblinear; total time=   0.0s\n",
      "[CV] END .............C=417.53189365604004, solver=liblinear; total time=   0.0s\n",
      "[CV] END .............C=417.53189365604004, solver=liblinear; total time=   0.0s\n",
      "[CV] END ..............C=788.0462815669904, solver=liblinear; total time=   0.0s\n",
      "[CV] END ..............C=788.0462815669904, solver=liblinear; total time=   0.0s\n",
      "[CV] END ..............C=788.0462815669904, solver=liblinear; total time=   0.0s\n",
      "[CV] END ..............C=788.0462815669904, solver=liblinear; total time=   0.0s\n",
      "[CV] END ..............C=788.0462815669904, solver=liblinear; total time=   0.0s\n",
      "[CV] END .............C=1487.3521072935118, solver=liblinear; total time=   0.0s\n",
      "[CV] END .............C=1487.3521072935118, solver=liblinear; total time=   0.0s\n",
      "[CV] END .............C=1487.3521072935118, solver=liblinear; total time=   0.0s\n",
      "[CV] END .............C=1487.3521072935118, solver=liblinear; total time=   0.0s\n",
      "[CV] END .............C=1487.3521072935118, solver=liblinear; total time=   0.0s\n",
      "[CV] END .............C=2807.2162039411755, solver=liblinear; total time=   0.0s\n",
      "[CV] END .............C=2807.2162039411755, solver=liblinear; total time=   0.0s\n",
      "[CV] END .............C=2807.2162039411755, solver=liblinear; total time=   0.0s\n",
      "[CV] END .............C=2807.2162039411755, solver=liblinear; total time=   0.0s\n",
      "[CV] END .............C=2807.2162039411755, solver=liblinear; total time=   0.0s\n",
      "[CV] END ..............C=5298.316906283702, solver=liblinear; total time=   0.0s\n",
      "[CV] END ..............C=5298.316906283702, solver=liblinear; total time=   0.0s\n",
      "[CV] END ..............C=5298.316906283702, solver=liblinear; total time=   0.0s\n",
      "[CV] END ..............C=5298.316906283702, solver=liblinear; total time=   0.0s\n",
      "[CV] END ..............C=5298.316906283702, solver=liblinear; total time=   0.0s\n"
     ]
    },
    {
     "name": "stdout",
     "output_type": "stream",
     "text": [
      "[CV] END ........................C=10000.0, solver=liblinear; total time=   0.0s\n",
      "[CV] END ........................C=10000.0, solver=liblinear; total time=   0.0s\n",
      "[CV] END ........................C=10000.0, solver=liblinear; total time=   0.0s\n",
      "[CV] END ........................C=10000.0, solver=liblinear; total time=   0.0s\n",
      "[CV] END ........................C=10000.0, solver=liblinear; total time=   0.0s\n"
     ]
    },
    {
     "data": {
      "text/plain": [
       "GridSearchCV(cv=5, estimator=LogisticRegression(max_iter=100000),\n",
       "             param_grid={'C': array([1.00000000e-04, 1.88739182e-04, 3.56224789e-04, 6.72335754e-04,\n",
       "       1.26896100e-03, 2.39502662e-03, 4.52035366e-03, 8.53167852e-03,\n",
       "       1.61026203e-02, 3.03919538e-02, 5.73615251e-02, 1.08263673e-01,\n",
       "       2.04335972e-01, 3.85662042e-01, 7.27895384e-01, 1.37382380e+00,\n",
       "       2.59294380e+00, 4.89390092e+00, 9.23670857e+00, 1.74332882e+01,\n",
       "       3.29034456e+01, 6.21016942e+01, 1.17210230e+02, 2.21221629e+02,\n",
       "       4.17531894e+02, 7.88046282e+02, 1.48735211e+03, 2.80721620e+03,\n",
       "       5.29831691e+03, 1.00000000e+04]),\n",
       "                         'solver': ['liblinear']},\n",
       "             verbose=2)"
      ]
     },
     "execution_count": 21,
     "metadata": {},
     "output_type": "execute_result"
    }
   ],
   "source": [
    "g_grid = {\"C\" : np.logspace(-4,4,30),\n",
    "         \"solver\" : [\"liblinear\"]}\n",
    "gs_model1 = GridSearchCV(model1,\n",
    "                        param_grid=g_grid,\n",
    "                        verbose=2,\n",
    "                        cv=5)\n",
    "gs_model1.fit(X_train,y_train)"
   ]
  },
  {
   "cell_type": "code",
   "execution_count": 22,
   "id": "33a303fe",
   "metadata": {},
   "outputs": [
    {
     "data": {
      "text/plain": [
       "{'C': 0.20433597178569418, 'solver': 'liblinear'}"
      ]
     },
     "execution_count": 22,
     "metadata": {},
     "output_type": "execute_result"
    }
   ],
   "source": [
    "gs_model1.best_params_"
   ]
  },
  {
   "cell_type": "code",
   "execution_count": 23,
   "id": "1663ba95",
   "metadata": {},
   "outputs": [],
   "source": [
    "gs_model1.score(X_test,y_test)\n",
    "gs_model1_y_pred = gs_model1.predict(X_test)"
   ]
  },
  {
   "cell_type": "code",
   "execution_count": 24,
   "id": "66d64f32",
   "metadata": {},
   "outputs": [
    {
     "name": "stdout",
     "output_type": "stream",
     "text": [
      "Accuracy  :  0.9016393442622951 %\n",
      "Precision :  0.8823529411764706 %\n",
      "Recall    :  0.9375 %\n",
      "F1 Score  :  0.9090909090909091 %\n",
      "ROC_AUC_Score :  0.8997844827586207\n",
      "\n",
      "******************Classification Report*****************\n",
      "              precision    recall  f1-score   support\n",
      "\n",
      "           0       0.93      0.86      0.89        29\n",
      "           1       0.88      0.94      0.91        32\n",
      "\n",
      "    accuracy                           0.90        61\n",
      "   macro avg       0.90      0.90      0.90        61\n",
      "weighted avg       0.90      0.90      0.90        61\n",
      "\n"
     ]
    },
    {
     "name": "stderr",
     "output_type": "stream",
     "text": [
      "C:\\ProgramData\\Anaconda3\\lib\\site-packages\\sklearn\\utils\\deprecation.py:87: FutureWarning: Function plot_roc_curve is deprecated; Function :func:`plot_roc_curve` is deprecated in 1.0 and will be removed in 1.2. Use one of the class methods: :meth:`sklearn.metric.RocCurveDisplay.from_predictions` or :meth:`sklearn.metric.RocCurveDisplay.from_estimator`.\n",
      "  warnings.warn(msg, category=FutureWarning)\n"
     ]
    },
    {
     "data": {
      "image/png": "[encoded data removed]",
      "text/plain": [
       "<Figure size 432x288 with 2 Axes>"
      ]
     },
     "metadata": {
      "needs_background": "light"
     },
     "output_type": "display_data"
    },
    {
     "data": {
      "image/png": "[encoded data removed]",
      "text/plain": [
       "<Figure size 432x288 with 1 Axes>"
      ]
     },
     "metadata": {
      "needs_background": "light"
     },
     "output_type": "display_data"
    }
   ],
   "source": [
    "eve(y_test,gs_model1_y_pred,gs_model1)"
   ]
  },
  {
   "cell_type": "markdown",
   "id": "0559f29c",
   "metadata": {},
   "source": [
    "## AS IT CAN BE SEEN , THE MODEL HAS IMPROVED 2%"
   ]
  },
  {
   "cell_type": "code",
   "execution_count": 25,
   "id": "7eee28e9",
   "metadata": {},
   "outputs": [
    {
     "data": {
      "text/plain": [
       "{'C': 0.20433597178569418, 'solver': 'liblinear'}"
      ]
     },
     "execution_count": 25,
     "metadata": {},
     "output_type": "execute_result"
    }
   ],
   "source": [
    "gs_model1.best_params_"
   ]
  },
  {
   "cell_type": "code",
   "execution_count": 37,
   "id": "71678865",
   "metadata": {},
   "outputs": [
    {
     "data": {
      "text/plain": [
       "LogisticRegression(C=0.20433597178569418, solver='liblinear')"
      ]
     },
     "execution_count": 37,
     "metadata": {},
     "output_type": "execute_result"
    }
   ],
   "source": [
    "tuned_model = LogisticRegression(C=0.20433597178569418,\n",
    "                                solver='liblinear')\n",
    "tuned_model.fit(X_train,y_train)"
   ]
  },
  {
   "cell_type": "code",
   "execution_count": 38,
   "id": "aa454794",
   "metadata": {},
   "outputs": [],
   "source": [
    "def metrics(tuned_model):\n",
    "    tuned_model_ac_sc = cross_val_score(tuned_model,X,y,cv=5,scoring=\"accuracy\").mean()\n",
    "    tuned_model_prec_sc = cross_val_score(tuned_model,X,y,cv=5,scoring=\"precision\").mean()\n",
    "    tuned_model_rec_sc = cross_val_score(tuned_model,X,y,cv=5,scoring=\"recall\").mean()\n",
    "    tuned_model_f1_sc = cross_val_score(tuned_model,X,y,cv=5,scoring=\"f1\").mean()\n",
    "    print(\"Accuracy Score :\",tuned_model_ac_sc,\" \\nPrecision Score :\",tuned_model_prec_sc,\" \\nRecall Score :\",tuned_model_rec_sc,\"\\nF1 Score :\",tuned_model_f1_sc)\n"
   ]
  },
  {
   "cell_type": "code",
   "execution_count": 39,
   "id": "57eee0f7",
   "metadata": {},
   "outputs": [
    {
     "name": "stdout",
     "output_type": "stream",
     "text": [
      "Accuracy Score : 0.8284153005464482  \n",
      "Precision Score : 0.810267949851881  \n",
      "Recall Score : 0.8969696969696971 \n",
      "F1 Score : 0.8505257643685707\n"
     ]
    }
   ],
   "source": [
    "metrics(model1)"
   ]
  },
  {
   "cell_type": "code",
   "execution_count": null,
   "id": "a210d19c",
   "metadata": {},
   "outputs": [],
   "source": []
  },
  {
   "cell_type": "code",
   "execution_count": 40,
   "id": "4e5c7e85",
   "metadata": {},
   "outputs": [
    {
     "name": "stdout",
     "output_type": "stream",
     "text": [
      "Accuracy Score : 0.8349726775956284  \n",
      "Precision Score : 0.808353773231822  \n",
      "Recall Score : 0.9151515151515153 \n",
      "F1 Score : 0.8576321699851113\n"
     ]
    }
   ],
   "source": [
    "metrics(tuned_model)"
   ]
  },
  {
   "cell_type": "markdown",
   "id": "4f265b9c",
   "metadata": {},
   "source": [
    "## AS CAN BE SEEN ABOVE, MODEL1 IS THE BASELINE MODEL, WHILE TUNED_MODEL IS REFINED LOGISTICS_REGRESSION MODEL.\n",
    "## THE TUNED MODEL HAS A SLIGHTLY HIGHER ACCURACY THAN THE BASELINE PREDICTIONS"
   ]
  },
  {
   "cell_type": "markdown",
   "id": "034dfe63",
   "metadata": {},
   "source": [
    "## `modelname.coef_` gives the importance percentage of each feature in the dataset"
   ]
  },
  {
   "cell_type": "code",
   "execution_count": 43,
   "id": "1a822f16",
   "metadata": {},
   "outputs": [
    {
     "data": {
      "text/plain": [
       "array([[ 0.01397254, -0.90027457,  0.62527718, -0.01836762, -0.00153459,\n",
       "        -0.07074229,  0.24478568,  0.0256998 , -0.63565204, -0.41431783,\n",
       "         0.4090121 , -0.58674883, -0.60001278]])"
      ]
     },
     "execution_count": 43,
     "metadata": {},
     "output_type": "execute_result"
    }
   ],
   "source": [
    "tuned_model.coef_"
   ]
  },
  {
   "cell_type": "code",
   "execution_count": 46,
   "id": "9605887b",
   "metadata": {},
   "outputs": [
    {
     "data": {
      "text/html": [
       "<div>\n",
       "<style scoped>\n",
       "    .dataframe tbody tr th:only-of-type {\n",
       "        vertical-align: middle;\n",
       "    }\n",
       "\n",
       "    .dataframe tbody tr th {\n",
       "        vertical-align: top;\n",
       "    }\n",
       "\n",
       "    .dataframe thead th {\n",
       "        text-align: right;\n",
       "    }\n",
       "</style>\n",
       "<table border=\"1\" class=\"dataframe\">\n",
       "  <thead>\n",
       "    <tr style=\"text-align: right;\">\n",
       "      <th></th>\n",
       "      <th>age</th>\n",
       "      <th>sex</th>\n",
       "      <th>cp</th>\n",
       "      <th>trestbps</th>\n",
       "      <th>chol</th>\n",
       "      <th>fbs</th>\n",
       "      <th>restecg</th>\n",
       "      <th>thalach</th>\n",
       "      <th>exang</th>\n",
       "      <th>oldpeak</th>\n",
       "      <th>slope</th>\n",
       "      <th>ca</th>\n",
       "      <th>thal</th>\n",
       "      <th>target</th>\n",
       "    </tr>\n",
       "  </thead>\n",
       "  <tbody>\n",
       "    <tr>\n",
       "      <th>244</th>\n",
       "      <td>56</td>\n",
       "      <td>1</td>\n",
       "      <td>0</td>\n",
       "      <td>132</td>\n",
       "      <td>184</td>\n",
       "      <td>0</td>\n",
       "      <td>0</td>\n",
       "      <td>105</td>\n",
       "      <td>1</td>\n",
       "      <td>2.1</td>\n",
       "      <td>1</td>\n",
       "      <td>1</td>\n",
       "      <td>1</td>\n",
       "      <td>0</td>\n",
       "    </tr>\n",
       "    <tr>\n",
       "      <th>125</th>\n",
       "      <td>34</td>\n",
       "      <td>0</td>\n",
       "      <td>1</td>\n",
       "      <td>118</td>\n",
       "      <td>210</td>\n",
       "      <td>0</td>\n",
       "      <td>1</td>\n",
       "      <td>192</td>\n",
       "      <td>0</td>\n",
       "      <td>0.7</td>\n",
       "      <td>2</td>\n",
       "      <td>0</td>\n",
       "      <td>2</td>\n",
       "      <td>1</td>\n",
       "    </tr>\n",
       "    <tr>\n",
       "      <th>79</th>\n",
       "      <td>58</td>\n",
       "      <td>1</td>\n",
       "      <td>2</td>\n",
       "      <td>105</td>\n",
       "      <td>240</td>\n",
       "      <td>0</td>\n",
       "      <td>0</td>\n",
       "      <td>154</td>\n",
       "      <td>1</td>\n",
       "      <td>0.6</td>\n",
       "      <td>1</td>\n",
       "      <td>0</td>\n",
       "      <td>3</td>\n",
       "      <td>1</td>\n",
       "    </tr>\n",
       "    <tr>\n",
       "      <th>48</th>\n",
       "      <td>53</td>\n",
       "      <td>0</td>\n",
       "      <td>2</td>\n",
       "      <td>128</td>\n",
       "      <td>216</td>\n",
       "      <td>0</td>\n",
       "      <td>0</td>\n",
       "      <td>115</td>\n",
       "      <td>0</td>\n",
       "      <td>0.0</td>\n",
       "      <td>2</td>\n",
       "      <td>0</td>\n",
       "      <td>0</td>\n",
       "      <td>1</td>\n",
       "    </tr>\n",
       "    <tr>\n",
       "      <th>15</th>\n",
       "      <td>50</td>\n",
       "      <td>0</td>\n",
       "      <td>2</td>\n",
       "      <td>120</td>\n",
       "      <td>219</td>\n",
       "      <td>0</td>\n",
       "      <td>1</td>\n",
       "      <td>158</td>\n",
       "      <td>0</td>\n",
       "      <td>1.6</td>\n",
       "      <td>1</td>\n",
       "      <td>0</td>\n",
       "      <td>2</td>\n",
       "      <td>1</td>\n",
       "    </tr>\n",
       "  </tbody>\n",
       "</table>\n",
       "</div>"
      ],
      "text/plain": [
       "     age  sex  cp  trestbps  chol  fbs  restecg  thalach  exang  oldpeak  \\\n",
       "244   56    1   0       132   184    0        0      105      1      2.1   \n",
       "125   34    0   1       118   210    0        1      192      0      0.7   \n",
       "79    58    1   2       105   240    0        0      154      1      0.6   \n",
       "48    53    0   2       128   216    0        0      115      0      0.0   \n",
       "15    50    0   2       120   219    0        1      158      0      1.6   \n",
       "\n",
       "     slope  ca  thal  target  \n",
       "244      1   1     1       0  \n",
       "125      2   0     2       1  \n",
       "79       1   0     3       1  \n",
       "48       2   0     0       1  \n",
       "15       1   0     2       1  "
      ]
     },
     "execution_count": 46,
     "metadata": {},
     "output_type": "execute_result"
    }
   ],
   "source": [
    "data.head()"
   ]
  },
  {
   "cell_type": "code",
   "execution_count": 45,
   "id": "a7af4443",
   "metadata": {},
   "outputs": [
    {
     "data": {
      "text/plain": [
       "{'age': 0.013972543613858059,\n",
       " 'sex': -0.9002745679611097,\n",
       " 'cp': 0.625277181123985,\n",
       " 'trestbps': -0.01836762328583035,\n",
       " 'chol': -0.001534590285576476,\n",
       " 'fbs': -0.07074229133107443,\n",
       " 'restecg': 0.24478567609096183,\n",
       " 'thalach': 0.025699800620813815,\n",
       " 'exang': -0.6356520442057381,\n",
       " 'oldpeak': -0.4143178322734015,\n",
       " 'slope': 0.40901209616574313,\n",
       " 'ca': -0.5867488272626795,\n",
       " 'thal': -0.6000127750833569}"
      ]
     },
     "execution_count": 45,
     "metadata": {},
     "output_type": "execute_result"
    }
   ],
   "source": [
    "coef_list = tuned_model.coef_\n",
    "feature_dict = dict(zip(data.columns,list(tuned_model.coef_[0])))\n",
    "feature_dict"
   ]
  },
  {
   "cell_type": "code",
   "execution_count": 59,
   "id": "9cd1a8d9",
   "metadata": {},
   "outputs": [
    {
     "data": {
      "text/plain": [
       "<AxesSubplot:title={'center':'Feature Importance '}>"
      ]
     },
     "execution_count": 59,
     "metadata": {},
     "output_type": "execute_result"
    },
    {
     "data": {
      "image/png": "[encoded data removed]",
      "text/plain": [
       "<Figure size 432x288 with 1 Axes>"
      ]
     },
     "metadata": {
      "needs_background": "light"
     },
     "output_type": "display_data"
    }
   ],
   "source": [
    "feature = pd.DataFrame(feature_dict,index=[0])\n",
    "feature.T.plot.bar(title=\"Feature Importance \",legend=False)"
   ]
  },
  {
   "cell_type": "code",
   "execution_count": null,
   "id": "7f03ccc1",
   "metadata": {},
   "outputs": [],
   "source": []
  }
 ],
 "metadata": {
  "kernelspec": {
   "display_name": "Python 3 (ipykernel)",
   "language": "python",
   "name": "python3"
  },
  "language_info": {
   "codemirror_mode": {
    "name": "ipython",
    "version": 3
   },
   "file_extension": ".py",
   "mimetype": "text/x-python",
   "name": "python",
   "nbconvert_exporter": "python",
   "pygments_lexer": "ipython3",
   "version": "3.9.12"
  }
 },
 "nbformat": 4,
 "nbformat_minor": 5
}
